{
  "cells": [
    {
      "cell_type": "markdown",
      "metadata": {
        "id": "NoK-582mzg97"
      },
      "source": [
        "# Least-squares"
      ]
    },
    {
      "cell_type": "markdown",
      "metadata": {
        "id": "3xD89K4tzg9-"
      },
      "source": [
        "In a least-squares, or linear regression, problem, we have measurements $A \\in \\mathcal{R}^{m \\times n}$ and $b \\in \\mathcal{R}^m$ and seek a vector $x \\in \\mathcal{R}^{n}$ such that $Ax$ is close to $b$. Closeness is defined as the sum of the squared differences:\n",
        "$$ \\sum_{i=1}^m (a_i^Tx - b_i)^2, $$\n",
        "also known as the $\\ell_2$-norm squared, $\\|Ax - b\\|_2^2$.\n",
        "\n",
        "For example, we might have a dataset of $m$ users, each represented by $n$ features. Each row $a_i^T$ of $A$ is the features for user $i$, while the corresponding entry $b_i$ of $b$ is the measurement we want to predict from $a_i^T$, such as ad spending. The prediction is given by $a_i^Tx$.\n",
        "\n",
        "We find the optimal $x$ by solving the optimization problem\n",
        "$$  \n",
        "    \\begin{array}{ll}\n",
        "    \\mbox{minimize}   & \\|Ax - b\\|_2^2.\n",
        "    \\end{array}\n",
        "$$\n",
        "Let $x^\\star$ denote the optimal $x$. The quantity $r = Ax^\\star - b$ is known as the residual. If $\\|r\\|_2 = 0$, we have a perfect fit."
      ]
    },
    {
      "cell_type": "markdown",
      "metadata": {
        "id": "T3KmCXuSzg9_"
      },
      "source": [
        "## Example"
      ]
    },
    {
      "cell_type": "markdown",
      "metadata": {
        "id": "mfTPf2eHzg9_"
      },
      "source": [
        "In the following code, we solve a least-squares problem with CVXPY."
      ]
    },
    {
      "cell_type": "code",
      "execution_count": 2,
      "metadata": {
        "colab": {
          "base_uri": "https://localhost:8080/"
        },
        "id": "HWo29P_kzg-A",
        "outputId": "0270b226-ff11-4fc7-fc12-bf206161fa25"
      },
      "outputs": [
        {
          "output_type": "stream",
          "name": "stdout",
          "text": [
            "[[ 1.62434536e+00 -6.11756414e-01 -5.28171752e-01 -1.07296862e+00\n",
            "   8.65407629e-01 -2.30153870e+00  1.74481176e+00 -7.61206901e-01\n",
            "   3.19039096e-01 -2.49370375e-01  1.46210794e+00 -2.06014071e+00\n",
            "  -3.22417204e-01 -3.84054355e-01  1.13376944e+00]\n",
            " [-1.09989127e+00 -1.72428208e-01 -8.77858418e-01  4.22137467e-02\n",
            "   5.82815214e-01 -1.10061918e+00  1.14472371e+00  9.01590721e-01\n",
            "   5.02494339e-01  9.00855949e-01 -6.83727859e-01 -1.22890226e-01\n",
            "  -9.35769434e-01 -2.67888080e-01  5.30355467e-01]\n",
            " [-6.91660752e-01 -3.96753527e-01 -6.87172700e-01 -8.45205641e-01\n",
            "  -6.71246131e-01 -1.26645989e-02 -1.11731035e+00  2.34415698e-01\n",
            "   1.65980218e+00  7.42044161e-01 -1.91835552e-01 -8.87628964e-01\n",
            "  -7.47158294e-01  1.69245460e+00  5.08077548e-02]\n",
            " [-6.36995647e-01  1.90915485e-01  2.10025514e+00  1.20158952e-01\n",
            "   6.17203110e-01  3.00170320e-01 -3.52249846e-01 -1.14251820e+00\n",
            "  -3.49342722e-01 -2.08894233e-01  5.86623191e-01  8.38983414e-01\n",
            "   9.31102081e-01  2.85587325e-01  8.85141164e-01]\n",
            " [-7.54397941e-01  1.25286816e+00  5.12929820e-01 -2.98092835e-01\n",
            "   4.88518147e-01 -7.55717130e-02  1.13162939e+00  1.51981682e+00\n",
            "   2.18557541e+00 -1.39649634e+00 -1.44411381e+00 -5.04465863e-01\n",
            "   1.60037069e-01  8.76168921e-01  3.15634947e-01]\n",
            " [-2.02220122e+00 -3.06204013e-01  8.27974643e-01  2.30094735e-01\n",
            "   7.62011180e-01 -2.22328143e-01 -2.00758069e-01  1.86561391e-01\n",
            "   4.10051647e-01  1.98299720e-01  1.19008646e-01 -6.70662286e-01\n",
            "   3.77563786e-01  1.21821271e-01  1.12948391e+00]\n",
            " [ 1.19891788e+00  1.85156417e-01 -3.75284950e-01 -6.38730407e-01\n",
            "   4.23494354e-01  7.73400683e-02 -3.43853676e-01  4.35968568e-02\n",
            "  -6.20000844e-01  6.98032034e-01 -4.47128565e-01  1.22450770e+00\n",
            "   4.03491642e-01  5.93578523e-01 -1.09491185e+00]\n",
            " [ 1.69382433e-01  7.40556451e-01 -9.53700602e-01 -2.66218506e-01\n",
            "   3.26145467e-02 -1.37311732e+00  3.15159392e-01  8.46160648e-01\n",
            "  -8.59515941e-01  3.50545979e-01 -1.31228341e+00 -3.86955093e-02\n",
            "  -1.61577235e+00  1.12141771e+00  4.08900538e-01]\n",
            " [-2.46169559e-02 -7.75161619e-01  1.27375593e+00  1.96710175e+00\n",
            "  -1.85798186e+00  1.23616403e+00  1.62765075e+00  3.38011697e-01\n",
            "  -1.19926803e+00  8.63345318e-01 -1.80920302e-01 -6.03920628e-01\n",
            "  -1.23005814e+00  5.50537496e-01  7.92806866e-01]\n",
            " [-6.23530730e-01  5.20576337e-01 -1.14434139e+00  8.01861032e-01\n",
            "   4.65672984e-02 -1.86569772e-01 -1.01745873e-01  8.68886157e-01\n",
            "   7.50411640e-01  5.29465324e-01  1.37701210e-01  7.78211279e-02\n",
            "   6.18380262e-01  2.32494559e-01  6.82551407e-01]\n",
            " [-3.10116774e-01 -2.43483776e+00  1.03882460e+00  2.18697965e+00\n",
            "   4.41364444e-01 -1.00155233e-01 -1.36444744e-01 -1.19054188e-01\n",
            "   1.74094083e-02 -1.12201873e+00 -5.17094458e-01 -9.97026828e-01\n",
            "   2.48799161e-01 -2.96641152e-01  4.95211324e-01]\n",
            " [-1.74703160e-01  9.86335188e-01  2.13533901e-01  2.19069973e+00\n",
            "  -1.89636092e+00 -6.46916688e-01  9.01486892e-01  2.52832571e+00\n",
            "  -2.48634778e-01  4.36689932e-02 -2.26314243e-01  1.33145711e+00\n",
            "  -2.87307863e-01  6.80069840e-01 -3.19801599e-01]\n",
            " [-1.27255876e+00  3.13547720e-01  5.03184813e-01  1.29322588e+00\n",
            "  -1.10447026e-01 -6.17362064e-01  5.62761097e-01  2.40737092e-01\n",
            "   2.80665077e-01 -7.31127037e-02  1.16033857e+00  3.69492716e-01\n",
            "   1.90465871e+00  1.11105670e+00  6.59049796e-01]\n",
            " [-1.62743834e+00  6.02319280e-01  4.20282204e-01  8.10951673e-01\n",
            "   1.04444209e+00 -4.00878192e-01  8.24005618e-01 -5.62305431e-01\n",
            "   1.95487808e+00 -1.33195167e+00 -1.76068856e+00 -1.65072127e+00\n",
            "  -8.90555584e-01 -1.11911540e+00  1.95607890e+00]\n",
            " [-3.26499498e-01 -1.34267579e+00  1.11438298e+00 -5.86523939e-01\n",
            "  -1.23685338e+00  8.75838928e-01  6.23362177e-01 -4.34956683e-01\n",
            "   1.40754000e+00  1.29101580e-01  1.61694960e+00  5.02740882e-01\n",
            "   1.55880554e+00  1.09402696e-01 -1.21974440e+00]\n",
            " [ 2.44936865e+00 -5.45774168e-01 -1.98837863e-01 -7.00398505e-01\n",
            "  -2.03394449e-01  2.42669441e-01  2.01830179e-01  6.61020288e-01\n",
            "   1.79215821e+00 -1.20464572e-01 -1.23312074e+00 -1.18231813e+00\n",
            "  -6.65754518e-01 -1.67419581e+00  8.25029824e-01]\n",
            " [-4.98213564e-01 -3.10984978e-01 -1.89148284e-03 -1.39662042e+00\n",
            "  -8.61316361e-01  6.74711526e-01  6.18539131e-01 -4.43171931e-01\n",
            "   1.81053491e+00 -1.30572692e+00 -3.44987210e-01 -2.30839743e-01\n",
            "  -2.79308500e+00  1.93752881e+00  3.66332015e-01]\n",
            " [-1.04458938e+00  2.05117344e+00  5.85662000e-01  4.29526140e-01\n",
            "  -6.06998398e-01  1.06222724e-01 -1.52568032e+00  7.95026094e-01\n",
            "  -3.74438319e-01  1.34048197e-01  1.20205486e+00  2.84748111e-01\n",
            "   2.62467445e-01  2.76499305e-01 -7.33271604e-01]\n",
            " [ 8.36004719e-01  1.54335911e+00  7.58805660e-01  8.84908814e-01\n",
            "  -8.77281519e-01 -8.67787223e-01 -1.44087602e+00  1.23225307e+00\n",
            "  -2.54179868e-01  1.39984394e+00 -7.81911683e-01 -4.37508983e-01\n",
            "   9.54250872e-02  9.21450069e-01  6.07501958e-02]\n",
            " [ 2.11124755e-01  1.65275673e-02  1.77187720e-01 -1.11647002e+00\n",
            "   8.09271010e-02 -1.86578994e-01 -5.68244809e-02  4.92336556e-01\n",
            "  -6.80678141e-01 -8.45080274e-02 -2.97361883e-01  4.17302005e-01\n",
            "   7.84770651e-01 -9.55425262e-01  5.85910431e-01]]\n",
            "[[1.62 -0.61 ... -0.38 1.13]\n",
            " [-1.10 -0.17 ... -0.27 0.53]\n",
            " ...\n",
            " [0.84 1.54 ... 0.92 0.06]\n",
            " [0.21 0.02 ... -0.96 0.59]] @ var1 + -[ 2.06578332 -1.47115693 -0.8301719  -0.8805776  -0.27909772  1.62284909\n",
            "  0.01335268 -0.6946936   0.6218035  -0.59980453  1.12341216  0.30526704\n",
            "  1.3887794  -0.66134424  3.03085711  0.82458463  0.65458015 -0.05118845\n",
            " -0.72559712 -0.86776868]\n",
            "\n",
            "The optimal value is 7.005909828287486\n",
            "The optimal x is\n",
            "[ 0.17492418 -0.38102551  0.34732251  0.0173098  -0.0845784  -0.08134019\n",
            "  0.293119    0.27019762  0.17493179 -0.23953449  0.64097935 -0.41633637\n",
            "  0.12799688  0.1063942  -0.32158411]\n",
            "The norm of the residual is  2.6468679280023557\n"
          ]
        },
        {
          "output_type": "stream",
          "name": "stderr",
          "text": [
            "/usr/local/lib/python3.12/dist-packages/cvxpy/expressions/expression.py:674: UserWarning: \n",
            "This use of ``*`` has resulted in matrix multiplication.\n",
            "Using ``*`` for matrix multiplication has been deprecated since CVXPY 1.1.\n",
            "    Use ``*`` for matrix-scalar and vector-scalar multiplication.\n",
            "    Use ``@`` for matrix-matrix and matrix-vector multiplication.\n",
            "    Use ``multiply`` for elementwise multiplication.\n",
            "This code path has been hit 3 times so far.\n",
            "\n",
            "  warnings.warn(msg, UserWarning)\n",
            "/usr/local/lib/python3.12/dist-packages/cvxpy/expressions/expression.py:674: UserWarning: \n",
            "This use of ``*`` has resulted in matrix multiplication.\n",
            "Using ``*`` for matrix multiplication has been deprecated since CVXPY 1.1.\n",
            "    Use ``*`` for matrix-scalar and vector-scalar multiplication.\n",
            "    Use ``@`` for matrix-matrix and matrix-vector multiplication.\n",
            "    Use ``multiply`` for elementwise multiplication.\n",
            "This code path has been hit 4 times so far.\n",
            "\n",
            "  warnings.warn(msg, UserWarning)\n",
            "/usr/local/lib/python3.12/dist-packages/cvxpy/expressions/expression.py:674: UserWarning: \n",
            "This use of ``*`` has resulted in matrix multiplication.\n",
            "Using ``*`` for matrix multiplication has been deprecated since CVXPY 1.1.\n",
            "    Use ``*`` for matrix-scalar and vector-scalar multiplication.\n",
            "    Use ``@`` for matrix-matrix and matrix-vector multiplication.\n",
            "    Use ``multiply`` for elementwise multiplication.\n",
            "This code path has been hit 5 times so far.\n",
            "\n",
            "  warnings.warn(msg, UserWarning)\n"
          ]
        }
      ],
      "source": [
        "# Import packages.\n",
        "import cvxpy as cp\n",
        "import numpy as np\n",
        "\n",
        "# Generate data.\n",
        "m = 20\n",
        "n = 15\n",
        "np.random.seed(1)\n",
        "A = np.random.randn(m, n)\n",
        "b = np.random.randn(m)\n",
        "print(\"------------------\")\n",
        "print(A)\n",
        "print(\"------------------\")\n",
        "print(A*x - b)\n",
        "\n",
        "# Define and solve the CVXPY problem.\n",
        "x = cp.Variable(n)\n",
        "cost = cp.sum_squares(A*x - b)\n",
        "prob = cp.Problem(cp.Minimize(cost))\n",
        "prob.solve()\n",
        "\n",
        "# Print result.\n",
        "print(\"\\nThe optimal value is\", prob.value)\n",
        "print(\"The optimal x is\")\n",
        "print(x.value)\n",
        "print(\"The norm of the residual is \", cp.norm(A*x - b, p=2).value)"
      ]
    }
  ],
  "metadata": {
    "kernelspec": {
      "display_name": "Python 3",
      "language": "python",
      "name": "python3"
    },
    "language_info": {
      "codemirror_mode": {
        "name": "ipython",
        "version": 3
      },
      "file_extension": ".py",
      "mimetype": "text/x-python",
      "name": "python",
      "nbconvert_exporter": "python",
      "pygments_lexer": "ipython3",
      "version": "3.5.2"
    },
    "colab": {
      "provenance": []
    }
  },
  "nbformat": 4,
  "nbformat_minor": 0
}